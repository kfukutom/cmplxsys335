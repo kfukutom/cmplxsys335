{
  "nbformat": 4,
  "nbformat_minor": 0,
  "metadata": {
    "colab": {
      "provenance": []
    },
    "kernelspec": {
      "name": "python3",
      "display_name": "Python 3"
    },
    "language_info": {
      "name": "python"
    }
  },
  "cells": [
    {
      "cell_type": "code",
      "execution_count": null,
      "metadata": {
        "id": "gLuRYgBqZG7I"
      },
      "outputs": [],
      "source": [
        "# 09/24/24\n",
        "import networkx as nx\n",
        "from numpy import zeros, ones, mean\n",
        "from csv import reader"
      ]
    },
    {
      "cell_type": "code",
      "source": [
        "# || Page Rank ~ In-Class Demo\n",
        "# > Page Rank for this is NOT Normalized. Normalizing a centrality score, doesn't mean much when 'ranking' or finding which ones get the largest score.\n",
        "ALPHA = 0.8\n",
        "\n",
        "G = nx.read_adjlist('classnet.txt', nodetype=int, create_using=nx.DiGraph)\n",
        "N = G.number_of_nodes()\n",
        "\n",
        "x = ones(N, float)\n",
        "for r in range(20):\n",
        "  xp = zeros(N, float)\n",
        "  for i in G:\n",
        "    xsum = 0.0\n",
        "    for j in G.predecessors(i):\n",
        "      xsum += x[j] / G.out_degree(j)\n",
        "    xp[i] = ALPHA  * xsum + 1\n",
        "\n",
        "  x = xp\n",
        "\n",
        "# Read the Names:\n",
        "r = reader(open(\"classnames.csv\", 'r'))\n",
        "name = []\n",
        "for data in r:\n",
        "  name.append(data[1])\n",
        "\n",
        "# Printing our Results\n",
        "results = []\n",
        "for i in G:\n",
        "  results.append((x[i], name[i]))\n",
        "\n",
        "results.sort(reverse=True)\n",
        "print(results)"
      ],
      "metadata": {
        "colab": {
          "base_uri": "https://localhost:8080/"
        },
        "id": "p4GVZhIhZdkl",
        "outputId": "b27e0a51-0985-45e2-b53c-13fade98178e"
      },
      "execution_count": null,
      "outputs": [
        {
          "output_type": "stream",
          "name": "stdout",
          "text": [
            "[(11.144682548966248, 'Shah'), (8.553787590407254, 'Kluge'), (6.647499255939785, 'Steller'), (6.546658509160516, 'Tian'), (6.498022762241723, 'Guo'), (6.426208952558042, 'Vlasceanu'), (6.236195314994854, 'Voit'), (4.711389558687845, 'Rockmore'), (3.588206153178882, 'Truntaev'), (3.235268950472671, 'Jiang'), (2.766444360812364, 'Fu'), (1.0, 'Yao'), (1.0, 'Tamura'), (1.0, 'Szentgyorgyi'), (1.0, 'Maendel'), (1.0, 'Keaney'), (1.0, 'Doyle'), (1.0, 'Beyer')]\n"
          ]
        }
      ]
    },
    {
      "cell_type": "code",
      "source": [
        "# || Reciprocity ~ In-Class Demo\n",
        "ALPHA = 0.8\n",
        "\n",
        "G = nx.read_adjlist('classnet.txt', nodetype=int, create_using=nx.DiGraph)\n",
        "N = G.number_of_nodes()\n",
        "m = G.number_of_edges()\n",
        "\n",
        "count = 0\n",
        "for (i, j) in G.edges():\n",
        "  if G.has_edge(j, i):\n",
        "    count += 1\n",
        "print(count / m)"
      ],
      "metadata": {
        "colab": {
          "base_uri": "https://localhost:8080/"
        },
        "id": "ay0UUgivaWc_",
        "outputId": "8d10b1ec-5cdc-43d0-f327-058c189ef175"
      },
      "execution_count": null,
      "outputs": [
        {
          "output_type": "stream",
          "name": "stdout",
          "text": [
            "0.8125\n"
          ]
        }
      ]
    },
    {
      "cell_type": "code",
      "source": [
        "# Asssignment Exercise\n",
        "\n",
        "G = nx.read_adjlist('mi_adjlist.txt', nodetype=int, create_using=nx.DiGraph)\n",
        "r = reader(open('mi_nodes.csv', 'r'))\n",
        "\n",
        "webpage = []\n",
        "for page in r:\n",
        "  webpage.append(page)\n",
        "\n",
        "for i in G:\n",
        "  results.append((G[i], webpage[i]))\n",
        "\n",
        "results.sort(reverse=True)\n",
        "print(f\"Results: {results}\") # EOF"
      ],
      "metadata": {
        "id": "RYuq5S2KeI-Z"
      },
      "execution_count": null,
      "outputs": []
    }
  ]
}