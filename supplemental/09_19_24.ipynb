{
  "nbformat": 4,
  "nbformat_minor": 0,
  "metadata": {
    "colab": {
      "provenance": []
    },
    "kernelspec": {
      "name": "python3",
      "display_name": "Python 3"
    },
    "language_info": {
      "name": "python"
    }
  },
  "cells": [
    {
      "cell_type": "code",
      "execution_count": null,
      "metadata": {
        "colab": {
          "base_uri": "https://localhost:8080/",
          "height": 448
        },
        "id": "sqyxmNzhlwga",
        "outputId": "933995d0-9692-47e8-c1a3-954f7944a611"
      },
      "outputs": [
        {
          "output_type": "execute_result",
          "data": {
            "text/plain": [
              "[<matplotlib.lines.Line2D at 0x7a2b3fade650>]"
            ]
          },
          "metadata": {},
          "execution_count": 7
        },
        {
          "output_type": "display_data",
          "data": {
            "text/plain": [
              "<Figure size 640x480 with 1 Axes>"
            ],
            "image/png": "[encoded data removed]"
          },
          "metadata": {}
        }
      ],
      "source": [
        "from networkx import DiGraph, draw, read_adjlist\n",
        "from numpy import zeros\n",
        "from pylab import plot\n",
        "G = read_adjlist('highschool.txt', create_using=DiGraph, nodetype=int)\n",
        "histogram = zeros(20, int)\n",
        "plot(histogram, \"x\")\n",
        "\n",
        "for i in G:\n",
        "  d = G.in_degree[i]\n",
        "  histogram[d] += 1\n",
        "\n",
        "plot(histogram, \"o\")"
      ]
    },
    {
      "cell_type": "code",
      "source": [
        "# Eigen Vector Centrality\n",
        "# Requires: classnet.txt, classnames.csv\n",
        "\n",
        "# Remeber Kappa = (1/n) * (Sum of x-sub(i))\n",
        "# Step 1: READ THE FILE\n",
        "from numpy import ones, mean\n",
        "from csv import reader\n",
        "from networkx import read_adjlist, draw\n",
        "G = read_adjlist('classnet.txt', nodetype=int)\n",
        "\n",
        "# Step 2: Calculate Eigenvector Centrality\n",
        "# ASSUME an initial guess (e.g., 1) and then each person will guess their scores, normalizing it eventually.\n",
        "n = G.number_of_nodes()\n",
        "\n",
        "A = ones(n, float)\n",
        "for i in range(25):\n",
        "\n",
        "  x_prime = zeros(n, float)\n",
        "  for x in G:\n",
        "    for j in G[x]:\n",
        "       # G[x] is a dictionary, and it contains neighbors\n",
        "       x_prime[x] += A[j]\n",
        "    kappa = mean(x_prime)\n",
        "    x = x_prime / kappa\n",
        "\n",
        "r = reader(open('classnames.csv', 'r'))\n",
        "names = []\n",
        "for data in r:\n",
        "  names.append(data[2])\n",
        "\n",
        "for i in G:\n",
        "  print(names[i], \"|\", x[i], \"|\")"
      ],
      "metadata": {
        "colab": {
          "base_uri": "https://localhost:8080/"
        },
        "id": "yJXNOW6UwW70",
        "outputId": "ed4d9d64-339e-4a6f-84dc-e25f7301cd78"
      },
      "execution_count": null,
      "outputs": [
        {
          "output_type": "stream",
          "name": "stdout",
          "text": [
            "Kurt | 0.9473684210526315 |\n",
            "Yujian | 0.9473684210526315 |\n",
            "Rongxuan | 2.3684210526315788 |\n",
            "James | 0.0 |\n",
            "James | 2.3684210526315788 |\n",
            "Michael | 0.9473684210526315 |\n",
            "Priya | 0.9473684210526315 |\n",
            "Michael | 0.9473684210526315 |\n",
            "Kirill | 0.9473684210526315 |\n",
            "Nora | 0.47368421052631576 |\n",
            "Angela | 0.9473684210526315 |\n",
            "Shayna | 1.4210526315789473 |\n",
            "Cheops | 2.3684210526315788 |\n",
            "Denisa | 1.894736842105263 |\n",
            "Gavin | 0.0 |\n",
            "Lucas | 0.0 |\n",
            "Himari | 0.0 |\n",
            "Tianyong | 0.47368421052631576 |\n"
          ]
        }
      ]
    }
  ]
}